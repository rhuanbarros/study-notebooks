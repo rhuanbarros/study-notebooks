{
 "cells": [
  {
   "cell_type": "markdown",
   "metadata": {},
   "source": [
    "# DSA notes\n"
   ]
  },
  {
   "cell_type": "code",
   "execution_count": 11,
   "metadata": {},
   "outputs": [],
   "source": [
    "import math"
   ]
  },
  {
   "cell_type": "markdown",
   "metadata": {},
   "source": [
    "# Mod operations"
   ]
  },
  {
   "cell_type": "markdown",
   "metadata": {},
   "source": [
    "![](mod4_example.png)\n"
   ]
  },
  {
   "cell_type": "markdown",
   "metadata": {},
   "source": [
    "## Questions"
   ]
  },
  {
   "cell_type": "markdown",
   "metadata": {},
   "source": [
    "### Coin Change Machine\n",
    "> Question about how many coins of each value should it use or give as change"
   ]
  },
  {
   "cell_type": "markdown",
   "metadata": {},
   "source": [
    "Minimum number of coins\n",
    "\n",
    "Chef has infinite coins in denominations of rupees 5 and rupees 10.\n",
    "\n",
    "Find the minimum number of coins Chef needs, to pay exactly X rupees. If it is impossible to pay X rupees in denominations of rupees 5 and 10 only, print -1.\n",
    "\n",
    "Input Format<br>\n",
    "First line will contain T, number of test cases. Then the test cases follow.\n",
    "Each test case contains of a single integer X.\n",
    "\n",
    "Output Format\n",
    "\n",
    "For each test case, print a single integer - the minimum number of coins Chef needs, to pay exactly X rupees. If it is impossible to pay X rupees in denominations of rupees 5 and 10 only, print -1."
   ]
  },
  {
   "cell_type": "markdown",
   "metadata": {},
   "source": [
    ">  This solution don't work with float numbers, as we can se in the test in the cell below (below 2 cells).   \n",
    "> It returns -1, but it should return 2 coins of 0.50 and 1 of 0.10!"
   ]
  },
  {
   "cell_type": "code",
   "execution_count": 78,
   "metadata": {},
   "outputs": [
    {
     "name": "stdout",
     "output_type": "stream",
     "text": [
      "Coin 10: 0\n",
      "Coin 5: 11\n",
      "Total coins: 11\n"
     ]
    }
   ],
   "source": [
    "# x = 77\n",
    "x = 55\n",
    "# coins = [13, 10, 3]\n",
    "coins = [10, 5]\n",
    "coins = sorted(coins, reverse=True)\n",
    "\n",
    "if any( [ x%c==0 for c in coins] ):\n",
    "    total = 0\n",
    "    rest = x\n",
    "    coin_i = 0\n",
    "    for i in range(len(coins)):\n",
    "        if rest%coins[i] == 0:\n",
    "            coin_i = rest//coins[i]\n",
    "            rest = (rest%coins[i])\n",
    "\n",
    "        print(f\"Coin {coins[i]}: {coin_i}\")\n",
    "        total += coin_i\n",
    "    \n",
    "    print( f\"Total coins: {total}\" )\n",
    "else:\n",
    "    print(-1)\n"
   ]
  },
  {
   "cell_type": "code",
   "execution_count": null,
   "metadata": {},
   "outputs": [],
   "source": []
  },
  {
   "cell_type": "code",
   "execution_count": null,
   "metadata": {},
   "outputs": [],
   "source": [
    "refazer  esses códigos pois nao estao funcionando. misturei e confundi td"
   ]
  },
  {
   "cell_type": "code",
   "execution_count": null,
   "metadata": {},
   "outputs": [],
   "source": [
    "# x = 77\n",
    "x = 55\n",
    "# coins = [13, 10, 3]\n",
    "coins = [10, 5]\n",
    "coins = sorted(coins, reverse=True)\n",
    "\n",
    "if any( [ x%c==0 for c in coins] ):\n",
    "    total = 0\n",
    "    rest = x\n",
    "    coin_i = 0\n",
    "    for i in range(len(coins)):\n",
    "        if rest%coins[i] == 0:\n",
    "            coin_i = rest//coins[i]\n",
    "            rest = (rest%coins[i])\n",
    "\n",
    "        print(f\"Coin {coins[i]}: {coin_i}\")\n",
    "        total += coin_i\n",
    "    \n",
    "    print( f\"Total coins: {total}\" )\n",
    "else:\n",
    "    print(-1)\n"
   ]
  },
  {
   "cell_type": "markdown",
   "metadata": {},
   "source": [
    ">  This solution don't work with float numbers, as we can se in the test in the cell below (below 2 cells).   \n",
    "> It returns -1, but it should return 2 coins of 0.50 and 1 of 0.10!"
   ]
  },
  {
   "cell_type": "code",
   "execution_count": 5,
   "metadata": {},
   "outputs": [
    {
     "name": "stdout",
     "output_type": "stream",
     "text": [
      "-1\n"
     ]
    }
   ],
   "source": [
    "x = 1.1\n",
    "coins = [0.5, 0.25, 0.1]\n",
    "coins = sorted(coins, reverse=True)\n",
    "\n",
    "if any( [ x%c==0 for c in coins] ):\n",
    "    total = 0\n",
    "    rest = x\n",
    "    coin_i = 0\n",
    "    for i in range(len(coins)):\n",
    "        if rest%coins[i] == 0:\n",
    "            coin_i = rest//coins[i]\n",
    "            rest = (rest%coins[i])\n",
    "\n",
    "        print(f\"Coin {coins[i]}: {coin_i}\")\n",
    "        total += coin_i\n",
    "    \n",
    "    print( f\"Total coins: {total}\" )\n",
    "else:\n",
    "    print(-1)\n"
   ]
  },
  {
   "cell_type": "markdown",
   "metadata": {},
   "source": [
    "#### Solution for float numbers"
   ]
  },
  {
   "cell_type": "code",
   "execution_count": 75,
   "metadata": {},
   "outputs": [
    {
     "ename": "KeyboardInterrupt",
     "evalue": "",
     "output_type": "error",
     "traceback": [
      "\u001b[1;31m---------------------------------------------------------------------------\u001b[0m",
      "\u001b[1;31mKeyboardInterrupt\u001b[0m                         Traceback (most recent call last)",
      "Cell \u001b[1;32mIn[75], line 31\u001b[0m\n\u001b[0;32m     28\u001b[0m total, change \u001b[38;5;241m=\u001b[39m calc_change(integer_part)\n\u001b[0;32m     30\u001b[0m \u001b[38;5;28;01mif\u001b[39;00m float_part:\n\u001b[1;32m---> 31\u001b[0m     total_float_part, change_float_part \u001b[38;5;241m=\u001b[39m \u001b[43mcalc_change\u001b[49m\u001b[43m(\u001b[49m\u001b[43mfloat_part\u001b[49m\u001b[43m)\u001b[49m\n\u001b[0;32m     33\u001b[0m     total \u001b[38;5;241m+\u001b[39m\u001b[38;5;241m=\u001b[39m total_float_part\n\u001b[0;32m     34\u001b[0m     \u001b[38;5;28;01mfor\u001b[39;00m k, v \u001b[38;5;129;01min\u001b[39;00m change_float_part\u001b[38;5;241m.\u001b[39mitems():\n",
      "Cell \u001b[1;32mIn[75], line 23\u001b[0m, in \u001b[0;36mcalc_change\u001b[1;34m(money)\u001b[0m\n\u001b[0;32m     20\u001b[0m         coin_i \u001b[38;5;241m=\u001b[39m rest\u001b[38;5;241m/\u001b[39m\u001b[38;5;241m/\u001b[39mcoins[i]\n\u001b[0;32m     21\u001b[0m         rest \u001b[38;5;241m=\u001b[39m (rest\u001b[38;5;241m%\u001b[39mcoins[i])\n\u001b[1;32m---> 23\u001b[0m     change[coins[i]] \u001b[38;5;241m=\u001b[39m \u001b[38;5;28;43mint\u001b[39;49m(coin_i)\n\u001b[0;32m     24\u001b[0m     total \u001b[38;5;241m+\u001b[39m\u001b[38;5;241m=\u001b[39m coin_i\n\u001b[0;32m     26\u001b[0m \u001b[38;5;28;01mreturn\u001b[39;00m total, change\n",
      "Cell \u001b[1;32mIn[75], line 23\u001b[0m, in \u001b[0;36mcalc_change\u001b[1;34m(money)\u001b[0m\n\u001b[0;32m     20\u001b[0m         coin_i \u001b[38;5;241m=\u001b[39m rest\u001b[38;5;241m/\u001b[39m\u001b[38;5;241m/\u001b[39mcoins[i]\n\u001b[0;32m     21\u001b[0m         rest \u001b[38;5;241m=\u001b[39m (rest\u001b[38;5;241m%\u001b[39mcoins[i])\n\u001b[1;32m---> 23\u001b[0m     change[coins[i]] \u001b[38;5;241m=\u001b[39m \u001b[38;5;28;43mint\u001b[39;49m(coin_i)\n\u001b[0;32m     24\u001b[0m     total \u001b[38;5;241m+\u001b[39m\u001b[38;5;241m=\u001b[39m coin_i\n\u001b[0;32m     26\u001b[0m \u001b[38;5;28;01mreturn\u001b[39;00m total, change\n",
      "File \u001b[1;32m_pydevd_bundle/pydevd_cython.pyx:1457\u001b[0m, in \u001b[0;36m_pydevd_bundle.pydevd_cython.SafeCallWrapper.__call__\u001b[1;34m()\u001b[0m\n",
      "File \u001b[1;32m_pydevd_bundle/pydevd_cython.pyx:701\u001b[0m, in \u001b[0;36m_pydevd_bundle.pydevd_cython.PyDBFrame.trace_dispatch\u001b[1;34m()\u001b[0m\n",
      "File \u001b[1;32m_pydevd_bundle/pydevd_cython.pyx:1395\u001b[0m, in \u001b[0;36m_pydevd_bundle.pydevd_cython.PyDBFrame.trace_dispatch\u001b[1;34m()\u001b[0m\n",
      "File \u001b[1;32m_pydevd_bundle/pydevd_cython.pyx:1344\u001b[0m, in \u001b[0;36m_pydevd_bundle.pydevd_cython.PyDBFrame.trace_dispatch\u001b[1;34m()\u001b[0m\n",
      "File \u001b[1;32m_pydevd_bundle/pydevd_cython.pyx:312\u001b[0m, in \u001b[0;36m_pydevd_bundle.pydevd_cython.PyDBFrame.do_wait_suspend\u001b[1;34m()\u001b[0m\n",
      "File \u001b[1;32mc:\\Users\\rhuan\\.pyenv\\pyenv-win\\versions\\3.10.11\\lib\\site-packages\\debugpy\\_vendored\\pydevd\\pydevd.py:2070\u001b[0m, in \u001b[0;36mPyDB.do_wait_suspend\u001b[1;34m(self, thread, frame, event, arg, exception_type)\u001b[0m\n\u001b[0;32m   2067\u001b[0m             from_this_thread\u001b[38;5;241m.\u001b[39mappend(frame_custom_thread_id)\n\u001b[0;32m   2069\u001b[0m     \u001b[38;5;28;01mwith\u001b[39;00m \u001b[38;5;28mself\u001b[39m\u001b[38;5;241m.\u001b[39m_threads_suspended_single_notification\u001b[38;5;241m.\u001b[39mnotify_thread_suspended(thread_id, thread, stop_reason):\n\u001b[1;32m-> 2070\u001b[0m         keep_suspended \u001b[38;5;241m=\u001b[39m \u001b[38;5;28;43mself\u001b[39;49m\u001b[38;5;241;43m.\u001b[39;49m\u001b[43m_do_wait_suspend\u001b[49m\u001b[43m(\u001b[49m\u001b[43mthread\u001b[49m\u001b[43m,\u001b[49m\u001b[43m \u001b[49m\u001b[43mframe\u001b[49m\u001b[43m,\u001b[49m\u001b[43m \u001b[49m\u001b[43mevent\u001b[49m\u001b[43m,\u001b[49m\u001b[43m \u001b[49m\u001b[43marg\u001b[49m\u001b[43m,\u001b[49m\u001b[43m \u001b[49m\u001b[43msuspend_type\u001b[49m\u001b[43m,\u001b[49m\u001b[43m \u001b[49m\u001b[43mfrom_this_thread\u001b[49m\u001b[43m,\u001b[49m\u001b[43m \u001b[49m\u001b[43mframes_tracker\u001b[49m\u001b[43m)\u001b[49m\n\u001b[0;32m   2072\u001b[0m frames_list \u001b[38;5;241m=\u001b[39m \u001b[38;5;28;01mNone\u001b[39;00m\n\u001b[0;32m   2074\u001b[0m \u001b[38;5;28;01mif\u001b[39;00m keep_suspended:\n\u001b[0;32m   2075\u001b[0m     \u001b[38;5;66;03m# This means that we should pause again after a set next statement.\u001b[39;00m\n",
      "File \u001b[1;32mc:\\Users\\rhuan\\.pyenv\\pyenv-win\\versions\\3.10.11\\lib\\site-packages\\debugpy\\_vendored\\pydevd\\pydevd.py:2106\u001b[0m, in \u001b[0;36mPyDB._do_wait_suspend\u001b[1;34m(self, thread, frame, event, arg, suspend_type, from_this_thread, frames_tracker)\u001b[0m\n\u001b[0;32m   2103\u001b[0m         \u001b[38;5;28mself\u001b[39m\u001b[38;5;241m.\u001b[39m_call_input_hook()\n\u001b[0;32m   2105\u001b[0m     \u001b[38;5;28mself\u001b[39m\u001b[38;5;241m.\u001b[39mprocess_internal_commands()\n\u001b[1;32m-> 2106\u001b[0m     \u001b[43mtime\u001b[49m\u001b[38;5;241;43m.\u001b[39;49m\u001b[43msleep\u001b[49m\u001b[43m(\u001b[49m\u001b[38;5;241;43m0.01\u001b[39;49m\u001b[43m)\u001b[49m\n\u001b[0;32m   2108\u001b[0m \u001b[38;5;28mself\u001b[39m\u001b[38;5;241m.\u001b[39mcancel_async_evaluation(get_current_thread_id(thread), \u001b[38;5;28mstr\u001b[39m(\u001b[38;5;28mid\u001b[39m(frame)))\n\u001b[0;32m   2110\u001b[0m \u001b[38;5;66;03m# process any stepping instructions\u001b[39;00m\n",
      "\u001b[1;31mKeyboardInterrupt\u001b[0m: "
     ]
    }
   ],
   "source": [
    "from decimal import Decimal, getcontext\n",
    "# Set the precision to 30 digits\n",
    "getcontext().prec = 30\n",
    "\n",
    "x = Decimal(\"1.11\")\n",
    "\n",
    "coins = [Decimal(\"0.50\"), Decimal(\"0.25\"), Decimal(\"0.10\")]\n",
    "coins = sorted(coins, reverse=True)\n",
    "\n",
    "integer_part = Decimal( math.floor(x) )\n",
    "float_part = x-integer_part\n",
    "\n",
    "def calc_change(money):\n",
    "    total = 0\n",
    "    rest = money\n",
    "    coin_i = 0\n",
    "    change = {}\n",
    "    for i in range(len(coins)):  #if rest == 0 can break #test later\n",
    "        if rest%coins[i] == 0:\n",
    "            coin_i = rest//coins[i]\n",
    "            rest = (rest%coins[i])\n",
    "\n",
    "        change[coins[i]] = int(coin_i)\n",
    "        total += coin_i\n",
    "    \n",
    "    return total, change\n",
    "\n",
    "total, change = calc_change(integer_part)\n",
    "\n",
    "if float_part:\n",
    "    total_float_part, change_float_part = calc_change(float_part)\n",
    "\n",
    "    total += total_float_part\n",
    "    for k, v in change_float_part.items():\n",
    "        change[k] += change_float_part[k]\n",
    "\n",
    "if total > 0:\n",
    "    print( f\"Total coins: {total}\" )\n",
    "\n",
    "    for k,v in change.items():\n",
    "        print(f\"Coin {k:.2f}: {v}\")\n",
    "else:\n",
    "    print(\"No change\")"
   ]
  },
  {
   "cell_type": "code",
   "execution_count": 74,
   "metadata": {},
   "outputs": [
    {
     "data": {
      "text/plain": [
       "(Decimal('1'), Decimal('0.01'))"
      ]
     },
     "execution_count": 74,
     "metadata": {},
     "output_type": "execute_result"
    }
   ],
   "source": [
    "Decimal(\"0.11\")//Decimal(\"0.1\"), Decimal(\"0.11\")%Decimal(\"0.1\")"
   ]
  },
  {
   "cell_type": "code",
   "execution_count": 69,
   "metadata": {},
   "outputs": [
    {
     "data": {
      "text/plain": [
       "Decimal('1')"
      ]
     },
     "execution_count": 69,
     "metadata": {},
     "output_type": "execute_result"
    }
   ],
   "source": [
    "Decimal( math.floor(Decimal(\"1.11\")) )"
   ]
  },
  {
   "cell_type": "code",
   "execution_count": 76,
   "metadata": {},
   "outputs": [
    {
     "data": {
      "text/plain": [
       "5"
      ]
     },
     "execution_count": 76,
     "metadata": {},
     "output_type": "execute_result"
    }
   ],
   "source": [
    "55%50"
   ]
  },
  {
   "cell_type": "markdown",
   "metadata": {},
   "source": [
    "> In this case, with the quantity of coins available in the machine."
   ]
  },
  {
   "cell_type": "code",
   "execution_count": null,
   "metadata": {},
   "outputs": [],
   "source": []
  },
  {
   "cell_type": "code",
   "execution_count": 17,
   "metadata": {},
   "outputs": [
    {
     "name": "stdout",
     "output_type": "stream",
     "text": [
      "8\n"
     ]
    }
   ],
   "source": [
    "x=77\n",
    "\n",
    "a=10\n",
    "b=7\n",
    "\n",
    "bigger = max(a,b)\n",
    "minor = min(a,b)\n",
    "\n",
    "if x%bigger == 0 or x%minor == 0:\n",
    "    #it works only with coins of 10 and less than 10\n",
    "    print(x//bigger + (x%bigger)//minor)\n",
    "else:\n",
    "    print(-1) "
   ]
  },
  {
   "cell_type": "markdown",
   "metadata": {},
   "source": [
    "##### Key takeway\n",
    "The important part here is to get that the number need to be divisible at least by one of the two coins. This is the only case where it is impossible."
   ]
  },
  {
   "cell_type": "markdown",
   "metadata": {},
   "source": [
    "### Questions about digits\n",
    "\n",
    "> You should take care of negative numbers!!\n",
    "\n",
    "1. String trick"
   ]
  },
  {
   "cell_type": "code",
   "execution_count": 16,
   "metadata": {},
   "outputs": [
    {
     "data": {
      "text/plain": [
       "[1, 2, 3, 4, 5]"
      ]
     },
     "execution_count": 16,
     "metadata": {},
     "output_type": "execute_result"
    }
   ],
   "source": [
    "n = -12345\n",
    "\n",
    "# trick to fix negative number\n",
    "n = n if n>0 else n*-1 \n",
    "\n",
    "n_list = [int(e) for e in str(n)]\n",
    "n_list"
   ]
  },
  {
   "cell_type": "markdown",
   "metadata": {},
   "source": [
    "2. / and %"
   ]
  },
  {
   "cell_type": "code",
   "execution_count": 36,
   "metadata": {},
   "outputs": [
    {
     "data": {
      "text/plain": [
       "[1, 2, 3, 4, 5]"
      ]
     },
     "execution_count": 36,
     "metadata": {},
     "output_type": "execute_result"
    }
   ],
   "source": [
    "n = -12345\n",
    "\n",
    "# trick to fix negative number\n",
    "n = n if n>0 else n*-1 \n",
    "\n",
    "a = []\n",
    "while n != 0:\n",
    "    a.insert(0, n%10)\n",
    "    n = int(n/10) # we could use // because we fixed the negative number before. But, if we didn't fix the negative number, the floor division could return a differente number of the expected.\n",
    "a"
   ]
  },
  {
   "cell_type": "markdown",
   "metadata": {},
   "source": [
    "> This solutions with **while** didn't work with **negative** numbers because the mod of negatives numbers work different than positives."
   ]
  },
  {
   "cell_type": "code",
   "execution_count": 35,
   "metadata": {},
   "outputs": [
    {
     "data": {
      "text/plain": [
       "9"
      ]
     },
     "execution_count": 35,
     "metadata": {},
     "output_type": "execute_result"
    }
   ],
   "source": [
    "-1%10"
   ]
  },
  {
   "cell_type": "code",
   "execution_count": 45,
   "metadata": {},
   "outputs": [
    {
     "data": {
      "text/plain": [
       "2"
      ]
     },
     "execution_count": 45,
     "metadata": {},
     "output_type": "execute_result"
    }
   ],
   "source": [
    "-1234%4"
   ]
  },
  {
   "cell_type": "code",
   "execution_count": 44,
   "metadata": {},
   "outputs": [
    {
     "data": {
      "text/plain": [
       "-123"
      ]
     },
     "execution_count": 44,
     "metadata": {},
     "output_type": "execute_result"
    }
   ],
   "source": [
    "int(-1234/10)"
   ]
  },
  {
   "cell_type": "code",
   "execution_count": 43,
   "metadata": {},
   "outputs": [
    {
     "data": {
      "text/plain": [
       "6"
      ]
     },
     "execution_count": 43,
     "metadata": {},
     "output_type": "execute_result"
    }
   ],
   "source": [
    "-1234%10"
   ]
  },
  {
   "cell_type": "markdown",
   "metadata": {},
   "source": [
    "3. divmod"
   ]
  },
  {
   "cell_type": "code",
   "execution_count": 9,
   "metadata": {},
   "outputs": [
    {
     "data": {
      "text/plain": [
       "[1, 2, 3, 4, 5]"
      ]
     },
     "execution_count": 9,
     "metadata": {},
     "output_type": "execute_result"
    }
   ],
   "source": [
    "n = 12345\n",
    "a = []\n",
    "while n>0:\n",
    "    q, r = divmod(n, 10)\n",
    "    n = q\n",
    "    a.insert(0, r)\n",
    "a"
   ]
  },
  {
   "cell_type": "markdown",
   "metadata": {},
   "source": [
    "### Reverse a number"
   ]
  },
  {
   "cell_type": "code",
   "execution_count": 2,
   "metadata": {},
   "outputs": [
    {
     "data": {
      "text/plain": [
       "54321"
      ]
     },
     "execution_count": 2,
     "metadata": {},
     "output_type": "execute_result"
    }
   ],
   "source": [
    "n = \"12345\"  #string\n",
    "\n",
    "l = list(n)\n",
    "l = l[::-1]\n",
    "\n",
    "int(\"\".join(l))"
   ]
  },
  {
   "cell_type": "code",
   "execution_count": 3,
   "metadata": {},
   "outputs": [
    {
     "name": "stdout",
     "output_type": "stream",
     "text": [
      "54321\n"
     ]
    }
   ],
   "source": [
    "n = 12345 #int\n",
    "\n",
    "# handle negative number\n",
    "if n < 0:\n",
    "    negative = True\n",
    "    n = n*-1\n",
    "else:\n",
    "    negative = False\n",
    "    \n",
    "l = []\n",
    "while n > 0:\n",
    "    n, r = divmod(n, 10)\n",
    "    l.append(str(r))\n",
    "\n",
    "result = int(\"\".join(l))\n",
    "if negative:\n",
    "    print(result*-1)\n",
    "else:\n",
    "    print(result)"
   ]
  },
  {
   "cell_type": "markdown",
   "metadata": {},
   "source": [
    "### Time convertions"
   ]
  },
  {
   "cell_type": "code",
   "execution_count": 2,
   "metadata": {},
   "outputs": [
    {
     "name": "stdout",
     "output_type": "stream",
     "text": [
      "2 days, 3 hours, 46 minutes and 39 seconds\n"
     ]
    }
   ],
   "source": [
    "total_seconds = 186_399\n",
    "seconds = total_seconds % 60\n",
    "\n",
    "minutes = total_seconds // 60 % 60\n",
    "hours = total_seconds // 60 // 60 % 24\n",
    "days = total_seconds // 60 // 60 // 24\n",
    "\n",
    "print(f\"{days} days, {hours} hours, {minutes:02d} minutes and {seconds:02d} seconds\")"
   ]
  },
  {
   "cell_type": "markdown",
   "metadata": {},
   "source": [
    "### Mod of negative numbers\n",
    "\n",
    "$a \\mod b = a - b \\times \\left\\lfloor \\frac{a}{b} \\right\\rfloor$\n",
    "\n",
    "**Floor division**: remeber that the floor division for negatives numbers it is not ethe same as trucate the number, because the floor is even more **negative**!"
   ]
  },
  {
   "cell_type": "code",
   "execution_count": 8,
   "metadata": {},
   "outputs": [
    {
     "data": {
      "text/plain": [
       "1"
      ]
     },
     "execution_count": 8,
     "metadata": {},
     "output_type": "execute_result"
    }
   ],
   "source": [
    "7%3"
   ]
  },
  {
   "cell_type": "markdown",
   "metadata": {},
   "source": [
    "1) 7/3 = 2.333\n",
    "2) floor division(7/3) = 2\n",
    "3) 3 * 2 = 6\n",
    "4) 7 - 6 = 1"
   ]
  },
  {
   "cell_type": "code",
   "execution_count": 10,
   "metadata": {},
   "outputs": [
    {
     "data": {
      "text/plain": [
       "2"
      ]
     },
     "execution_count": 10,
     "metadata": {},
     "output_type": "execute_result"
    }
   ],
   "source": [
    "-7%3"
   ]
  },
  {
   "cell_type": "markdown",
   "metadata": {},
   "source": [
    "1) -7 / 3 = -2.333\n",
    "2) floor = -3\n",
    "3) 3 * -3 = -9\n",
    "4) -7 - -9 = 2"
   ]
  },
  {
   "cell_type": "code",
   "execution_count": 11,
   "metadata": {},
   "outputs": [
    {
     "data": {
      "text/plain": [
       "-2"
      ]
     },
     "execution_count": 11,
     "metadata": {},
     "output_type": "execute_result"
    }
   ],
   "source": [
    "7%-3"
   ]
  },
  {
   "cell_type": "markdown",
   "metadata": {},
   "source": [
    "1) 7 / -3 = -2.333\n",
    "2) floor = -3\n",
    "3) -3 * -3 = 9\n",
    "4) 7 - 9 = -2"
   ]
  },
  {
   "cell_type": "code",
   "execution_count": 7,
   "metadata": {},
   "outputs": [
    {
     "data": {
      "text/plain": [
       "-1"
      ]
     },
     "execution_count": 7,
     "metadata": {},
     "output_type": "execute_result"
    }
   ],
   "source": [
    "-7%-3"
   ]
  },
  {
   "cell_type": "markdown",
   "metadata": {},
   "source": [
    "1) -7 / -3 = 2.333\n",
    "2) floor = 2\n",
    "3) -3 * 2 = -6\n",
    "4) -7 - -6 = -1"
   ]
  },
  {
   "cell_type": "markdown",
   "metadata": {},
   "source": [
    "### Floor division\n",
    "\n",
    "The floor division of negative numbers could return a number that we are not expecting!"
   ]
  },
  {
   "cell_type": "code",
   "execution_count": 3,
   "metadata": {},
   "outputs": [
    {
     "data": {
      "text/plain": [
       "(1.4285714285714286, 1)"
      ]
     },
     "execution_count": 3,
     "metadata": {},
     "output_type": "execute_result"
    }
   ],
   "source": [
    "10/7, 10//7"
   ]
  },
  {
   "cell_type": "code",
   "execution_count": 4,
   "metadata": {},
   "outputs": [
    {
     "data": {
      "text/plain": [
       "(-1.4285714285714286, -2)"
      ]
     },
     "execution_count": 4,
     "metadata": {},
     "output_type": "execute_result"
    }
   ],
   "source": [
    "-10/7, -10//7"
   ]
  },
  {
   "cell_type": "markdown",
   "metadata": {},
   "source": [
    "### Truncation with int()"
   ]
  },
  {
   "cell_type": "markdown",
   "metadata": {},
   "source": [
    "> A good alternative is to use int() to truncate instead of floor division!"
   ]
  },
  {
   "cell_type": "code",
   "execution_count": 5,
   "metadata": {},
   "outputs": [
    {
     "data": {
      "text/plain": [
       "-1"
      ]
     },
     "execution_count": 5,
     "metadata": {},
     "output_type": "execute_result"
    }
   ],
   "source": [
    "int(-10/7)"
   ]
  },
  {
   "cell_type": "markdown",
   "metadata": {},
   "source": [
    "> Remember that, in automated test cases, 1.0 is not 1, so use int() to truncate the division even if the division is equaly (the divisor is divisible)!!\n",
    "\n",
    "Test cases sometimes work testing the printed answer (string), not the number in the number type."
   ]
  },
  {
   "cell_type": "code",
   "execution_count": 5,
   "metadata": {},
   "outputs": [
    {
     "data": {
      "text/plain": [
       "False"
      ]
     },
     "execution_count": 5,
     "metadata": {},
     "output_type": "execute_result"
    }
   ],
   "source": [
    "\"1.0\" == \"1\""
   ]
  },
  {
   "cell_type": "markdown",
   "metadata": {},
   "source": [
    "### Questions about quantity of groups\n",
    "\n",
    "This questions want to know how many groups of N it should have, but some times there is a remainder.  \n",
    "There is 2 types of questions in relation of how to handle this.\n",
    "- the remainder is put alone in one group (leving space in it) or\n",
    "> We use math.ceil(x/n) to round up to\n",
    "- the just want to know the quantity of remainder to do something else.\n",
    "> We use mod to get the remainder x%n"
   ]
  },
  {
   "cell_type": "markdown",
   "metadata": {},
   "source": [
    "math.ceil is useful when we need to get the quantity of groups, for example.\n",
    "\n",
    "Let's say that we need to form groups of 4 and need to know how many groups it will be necessary."
   ]
  },
  {
   "cell_type": "code",
   "execution_count": 3,
   "metadata": {},
   "outputs": [
    {
     "data": {
      "text/plain": [
       "3"
      ]
     },
     "execution_count": 3,
     "metadata": {},
     "output_type": "execute_result"
    }
   ],
   "source": [
    "import math\n",
    "\n",
    "math.ceil(n/g)  # 3 groups -> 2 groups of 4, and one with 3"
   ]
  },
  {
   "cell_type": "code",
   "execution_count": 3,
   "metadata": {},
   "outputs": [
    {
     "data": {
      "text/plain": [
       "2.75"
      ]
     },
     "execution_count": 3,
     "metadata": {},
     "output_type": "execute_result"
    }
   ],
   "source": [
    "n = 11 # number of persons\n",
    "g = 4 # qunatity in each group\n",
    "\n",
    "n/g"
   ]
  },
  {
   "cell_type": "markdown",
   "metadata": {},
   "source": [
    "# How to work with money in Python\n",
    "\n",
    "> use Decimal!"
   ]
  },
  {
   "cell_type": "code",
   "execution_count": 50,
   "metadata": {},
   "outputs": [
    {
     "name": "stdout",
     "output_type": "stream",
     "text": [
      "10000003.15\n"
     ]
    }
   ],
   "source": [
    "from decimal import Decimal, getcontext\n",
    "\n",
    "# Set the precision to 30 digits\n",
    "getcontext().prec = 30\n",
    "\n",
    "# Create Decimal numbers\n",
    "\n",
    "num1 = Decimal('10000000.17')\n",
    "num2 = Decimal('2.98')\n",
    "# Perform operations\n",
    "result = num1 + num2\n",
    "print(f\"{result:.2f}\")"
   ]
  },
  {
   "cell_type": "markdown",
   "metadata": {},
   "source": [
    "# Velocity"
   ]
  },
  {
   "cell_type": "markdown",
   "metadata": {},
   "source": [
    "### Police and Thief\n",
    "\n",
    "[Link](https://www.codechef.com/practice/course/logical-problems/DIFF800/problems/POLTHIEF?tab=statement)\n",
    "\n",
    "Chef discovered that his secret recipe has been stolen. He immediately informs the police of the theft.\n",
    "\n",
    "It is known that the policeman and thief move on the number line. You are given that:\n",
    "\n",
    "-   The initial location of the policeman on the number line is X and his speed is 2 units per second.\n",
    "-   The initial location of the thief on the number line is Y and his speed is 1 unit per second.\n",
    "\n",
    "Find the **minimum** time (in seconds) in which the policeman can catch the thief. Note that, the policeman catches the thief as soon as their locations become equal and the thief will try to evade the policeman for as long as possible.\n",
    "\n",
    "### Input Format\n",
    "\n",
    "-   The first line of input will contain an integer T --- the number of test cases. The description of T test cases follows.\n",
    "-   The first and only line of each test case contains two integers X and Y, as described in the problem statement.\n",
    "\n",
    "### Output Format\n",
    "\n",
    "For each test case, output in a single line the minimum time taken by the policeman to catch the thief.\n",
    "\n",
    "### Constraints\n",
    "\n",
    "-   1≤T≤10001≤T≤1000\n",
    "-   -105≤X,Y≤105-105≤X,Y≤105\n",
    "\n",
    "### Sample 1:\n",
    "\n",
    "Input\n",
    "```\n",
    "3\n",
    "1 3\n",
    "2 1\n",
    "1 1\n",
    "```\n",
    "\n",
    "Output\n",
    "```\n",
    "2\n",
    "1\n",
    "0\n",
    "```\n",
    "\n",
    "### Explanation:\n",
    "\n",
    "**Test case 11**: The initial locations of the policeman and thief are 11 and 33 respectively. The minimum time taken by the policeman to catch the thief is 22 seconds, and this happens when both the policeman and the thief move towards the right.\n",
    "\n",
    "**Test case 22**: The initial location of the policeman and thief are 22 and 11 respectively. The minimum time taken by the policeman to catch the thief is 11 second, and this happens when both the policeman and the thief move towards the left.\n",
    "\n",
    "**Test case 33**: The initial locations of the policeman and thief are 11 and 11 respectively. Because the police is already present at the location of thief, the time taken by police to catch the thief is 00 seconds."
   ]
  },
  {
   "cell_type": "code",
   "execution_count": 4,
   "metadata": {},
   "outputs": [
    {
     "name": "stdout",
     "output_type": "stream",
     "text": [
      "1\n"
     ]
    }
   ],
   "source": [
    "x = 1\n",
    "x_vel =2\n",
    "\n",
    "y = 2\n",
    "y_vel = 1\n",
    "\n",
    "relative_vel = abs(x_vel - y_vel)\n",
    "\n",
    "if x > y:\n",
    "    t = (x-y)/relative_vel\n",
    "    \n",
    "elif x == y:\n",
    "    t = 0\n",
    "else:\n",
    "    t = (y-x)/relative_vel\n",
    "\n",
    "print(int(t))"
   ]
  },
  {
   "cell_type": "markdown",
   "metadata": {},
   "source": [
    "When solving this problem, the concept of calculating the time using relative speed is grounded in basic physics, specifically from **kinematics** (the study of motion). Here's a breakdown:\n",
    "\n",
    "1. **Relative Speed**:\n",
    "- In physics, when two objects move towards or away from each other, you calculate their relative speed by subtracting their velocities if they’re moving in the same direction.\n",
    "  \n",
    "- In this case, the **policeman** moves faster than the **thief**, so their relative speed is the difference between their speeds:\n",
    "\n",
    "$$\n",
    "v_{\\text{relative}} = v_{\\text{policeman}} - v_{\\text{thief}}\n",
    "$$\n",
    "\n",
    "This is a common concept in problems involving two objects in motion on the same path.\n",
    "\n",
    "2. **Instantaneous Speed Formula**:\n",
    "- The general formula to find **time** in uniform motion is:\n",
    "\n",
    "$$\n",
    "\\text{Time} = \\frac{\\text{Distance}}{\\text{Speed}}\n",
    "$$\n",
    "\n",
    "This comes from the basic relationship between distance, speed, and time:\n",
    "\n",
    "$$\n",
    "\\text{Distance} = \\text{Speed} \\times \\text{Time}\n",
    "$$\n",
    "\n",
    "If you rearrange this equation, you can solve for time:\n",
    "\n",
    "$$\n",
    "\\text{Time} = \\frac{\\text{Distance}}{\\text{Speed}}\n",
    "$$\n",
    "\n",
    "3. **Applying It**:\n",
    "In this case, the \"distance\" is the gap between the policeman and the thief (i.e., \\( |X - Y| \\)), and the speed is the **relative speed** between them. This is why the time is calculated as:\n",
    "\n",
    "$$\n",
    "T = \\frac{|X - Y|}{v_{\\text{relative}}}\n",
    "$$\n"
   ]
  }
 ],
 "metadata": {
  "kernelspec": {
   "display_name": "Python 3",
   "language": "python",
   "name": "python3"
  },
  "language_info": {
   "codemirror_mode": {
    "name": "ipython",
    "version": 3
   },
   "file_extension": ".py",
   "mimetype": "text/x-python",
   "name": "python",
   "nbconvert_exporter": "python",
   "pygments_lexer": "ipython3",
   "version": "3.10.11"
  }
 },
 "nbformat": 4,
 "nbformat_minor": 2
}
