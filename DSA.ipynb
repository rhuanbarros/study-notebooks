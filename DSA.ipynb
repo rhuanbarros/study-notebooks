{
 "cells": [
  {
   "cell_type": "markdown",
   "metadata": {},
   "source": [
    "# DSA notes\n"
   ]
  },
  {
   "cell_type": "markdown",
   "metadata": {},
   "source": [
    "## Mod operations"
   ]
  },
  {
   "cell_type": "markdown",
   "metadata": {},
   "source": [
    "![](mod4_example.png)\n"
   ]
  },
  {
   "cell_type": "markdown",
   "metadata": {},
   "source": [
    "### Questions"
   ]
  },
  {
   "cell_type": "markdown",
   "metadata": {},
   "source": [
    "#### Question about how many coins of each value should it use or give as change"
   ]
  },
  {
   "cell_type": "markdown",
   "metadata": {},
   "source": [
    "Minimum number of coins\n",
    "\n",
    "Chef has infinite coins in denominations of rupees 5 and rupees 10.\n",
    "\n",
    "Find the minimum number of coins Chef needs, to pay exactly X rupees. If it is impossible to pay X rupees in denominations of rupees 5 and 10 only, print -1.\n",
    "\n",
    "Input Format<br>\n",
    "First line will contain T, number of test cases. Then the test cases follow.\n",
    "Each test case contains of a single integer X.\n",
    "\n",
    "Output Format\n",
    "\n",
    "For each test case, print a single integer - the minimum number of coins Chef needs, to pay exactly X rupees. If it is impossible to pay X rupees in denominations of rupees 5 and 10 only, print -1."
   ]
  },
  {
   "cell_type": "code",
   "execution_count": 20,
   "metadata": {},
   "outputs": [
    {
     "name": "stdout",
     "output_type": "stream",
     "text": [
      "Coin 13: 0\n",
      "Coin 10: 0\n",
      "Coin 3: 0\n",
      "Total coins: 0\n"
     ]
    }
   ],
   "source": [
    "x = 77\n",
    "coins = [13, 10, 3]\n",
    "coins = sorted(coins, reverse=True)\n",
    "\n",
    "if any( [ x%c==0 for c in coins] ):\n",
    "    total = 0\n",
    "    rest = x\n",
    "    coin_i = 0\n",
    "    for i in range(len(coins)):\n",
    "        if rest%coins[i] == 0:\n",
    "            coin_i = rest//coins[i]\n",
    "            rest = (rest%coins[i])\n",
    "\n",
    "        print(f\"Coin {coins[i]}: {coin_i}\")\n",
    "        total += coin_i\n",
    "    \n",
    "    print( f\"Total coins: {total}\" )\n",
    "else:\n",
    "    print(-1)\n"
   ]
  },
  {
   "cell_type": "code",
   "execution_count": 17,
   "metadata": {},
   "outputs": [
    {
     "name": "stdout",
     "output_type": "stream",
     "text": [
      "8\n"
     ]
    }
   ],
   "source": [
    "x=77\n",
    "\n",
    "a=10\n",
    "b=7\n",
    "\n",
    "bigger = max(a,b)\n",
    "minor = min(a,b)\n",
    "\n",
    "if x%bigger == 0 or x%minor == 0:\n",
    "    #it works only with coins of 10 and less than 10\n",
    "    print(x//bigger + (x%bigger)//minor)\n",
    "else:\n",
    "    print(-1) "
   ]
  },
  {
   "cell_type": "markdown",
   "metadata": {},
   "source": [
    "##### Key takeway\n",
    "The important part here is to get that the number need to be divisible at least by one of the two coins. This is the only case where it is impossible."
   ]
  },
  {
   "cell_type": "markdown",
   "metadata": {},
   "source": [
    "#### Questions about digits\n",
    "\n",
    "> You should take care of negative numbers!!\n",
    "\n",
    "1. String trick"
   ]
  },
  {
   "cell_type": "code",
   "execution_count": 16,
   "metadata": {},
   "outputs": [
    {
     "data": {
      "text/plain": [
       "[1, 2, 3, 4, 5]"
      ]
     },
     "execution_count": 16,
     "metadata": {},
     "output_type": "execute_result"
    }
   ],
   "source": [
    "n = -12345\n",
    "\n",
    "# trick to fix negative number\n",
    "n = n if n>0 else n*-1 \n",
    "\n",
    "n_list = [int(e) for e in str(n)]\n",
    "n_list"
   ]
  },
  {
   "cell_type": "markdown",
   "metadata": {},
   "source": [
    "2. / and %"
   ]
  },
  {
   "cell_type": "code",
   "execution_count": 36,
   "metadata": {},
   "outputs": [
    {
     "data": {
      "text/plain": [
       "[1, 2, 3, 4, 5]"
      ]
     },
     "execution_count": 36,
     "metadata": {},
     "output_type": "execute_result"
    }
   ],
   "source": [
    "n = -12345\n",
    "\n",
    "# trick to fix negative number\n",
    "n = n if n>0 else n*-1 \n",
    "\n",
    "a = []\n",
    "while n != 0:\n",
    "    a.insert(0, n%10)\n",
    "    n = int(n/10) # we could use // because we fixed the negative number before. But, if we didn't fix the negative number, the floor division could return a differente number of the expected.\n",
    "a"
   ]
  },
  {
   "cell_type": "markdown",
   "metadata": {},
   "source": [
    "> This solutions with **while** didn't work with **negative** numbers because the mod of negatives numbers work different than positives."
   ]
  },
  {
   "cell_type": "code",
   "execution_count": 35,
   "metadata": {},
   "outputs": [
    {
     "data": {
      "text/plain": [
       "9"
      ]
     },
     "execution_count": 35,
     "metadata": {},
     "output_type": "execute_result"
    }
   ],
   "source": [
    "-1%10"
   ]
  },
  {
   "cell_type": "code",
   "execution_count": 45,
   "metadata": {},
   "outputs": [
    {
     "data": {
      "text/plain": [
       "2"
      ]
     },
     "execution_count": 45,
     "metadata": {},
     "output_type": "execute_result"
    }
   ],
   "source": [
    "-1234%4"
   ]
  },
  {
   "cell_type": "code",
   "execution_count": 44,
   "metadata": {},
   "outputs": [
    {
     "data": {
      "text/plain": [
       "-123"
      ]
     },
     "execution_count": 44,
     "metadata": {},
     "output_type": "execute_result"
    }
   ],
   "source": [
    "int(-1234/10)"
   ]
  },
  {
   "cell_type": "code",
   "execution_count": 43,
   "metadata": {},
   "outputs": [
    {
     "data": {
      "text/plain": [
       "6"
      ]
     },
     "execution_count": 43,
     "metadata": {},
     "output_type": "execute_result"
    }
   ],
   "source": [
    "-1234%10"
   ]
  },
  {
   "cell_type": "markdown",
   "metadata": {},
   "source": [
    "3. divmod"
   ]
  },
  {
   "cell_type": "code",
   "execution_count": 9,
   "metadata": {},
   "outputs": [
    {
     "data": {
      "text/plain": [
       "[1, 2, 3, 4, 5]"
      ]
     },
     "execution_count": 9,
     "metadata": {},
     "output_type": "execute_result"
    }
   ],
   "source": [
    "n = 12345\n",
    "a = []\n",
    "while n>0:\n",
    "    q, r = divmod(n, 10)\n",
    "    n = q\n",
    "    a.insert(0, r)\n",
    "a"
   ]
  },
  {
   "cell_type": "markdown",
   "metadata": {},
   "source": [
    "#### Time convertions"
   ]
  },
  {
   "cell_type": "code",
   "execution_count": 30,
   "metadata": {},
   "outputs": [
    {
     "name": "stdout",
     "output_type": "stream",
     "text": [
      "2 days, 3 hours, 46 minutes and 39 seconds\n"
     ]
    }
   ],
   "source": [
    "total_seconds = 186_399\n",
    "seconds = total_seconds % 60\n",
    "minutes = total_seconds // 60 % 60\n",
    "hours = total_seconds // 60 // 60 % 24\n",
    "days = total_seconds // 60 // 60 // 24\n",
    "\n",
    "print(f\"{days} days, {hours} hours, {minutes:02d} minutes and {seconds:02d} seconds\")"
   ]
  },
  {
   "cell_type": "markdown",
   "metadata": {},
   "source": [
    "#### Mod of negative numbers\n",
    "\n",
    "$a \\mod b = a - b \\times \\left\\lfloor \\frac{a}{b} \\right\\rfloor$\n",
    "\n",
    "**Floor division**: remeber that the floor division for negatives numbers it is not ethe same as trucate the number, because the floor is even more **negative**!"
   ]
  },
  {
   "cell_type": "code",
   "execution_count": 8,
   "metadata": {},
   "outputs": [
    {
     "data": {
      "text/plain": [
       "1"
      ]
     },
     "execution_count": 8,
     "metadata": {},
     "output_type": "execute_result"
    }
   ],
   "source": [
    "7%3"
   ]
  },
  {
   "cell_type": "markdown",
   "metadata": {},
   "source": [
    "1) 7/3 = 2.333\n",
    "2) floor division(7/3) = 2\n",
    "3) 3 * 2 = 6\n",
    "4) 7 - 6 = 1"
   ]
  },
  {
   "cell_type": "code",
   "execution_count": 10,
   "metadata": {},
   "outputs": [
    {
     "data": {
      "text/plain": [
       "2"
      ]
     },
     "execution_count": 10,
     "metadata": {},
     "output_type": "execute_result"
    }
   ],
   "source": [
    "-7%3"
   ]
  },
  {
   "cell_type": "markdown",
   "metadata": {},
   "source": [
    "1) -7 / 3 = -2.333\n",
    "2) floor = -3\n",
    "3) 3 * -3 = -9\n",
    "4) -7 - -9 = 2"
   ]
  },
  {
   "cell_type": "code",
   "execution_count": 11,
   "metadata": {},
   "outputs": [
    {
     "data": {
      "text/plain": [
       "-2"
      ]
     },
     "execution_count": 11,
     "metadata": {},
     "output_type": "execute_result"
    }
   ],
   "source": [
    "7%-3"
   ]
  },
  {
   "cell_type": "markdown",
   "metadata": {},
   "source": [
    "1) 7 / -3 = -2.333\n",
    "2) floor = -3\n",
    "3) -3 * -3 = 9\n",
    "4) 7 - 9 = -2"
   ]
  },
  {
   "cell_type": "code",
   "execution_count": 7,
   "metadata": {},
   "outputs": [
    {
     "data": {
      "text/plain": [
       "-1"
      ]
     },
     "execution_count": 7,
     "metadata": {},
     "output_type": "execute_result"
    }
   ],
   "source": [
    "-7%-3"
   ]
  },
  {
   "cell_type": "markdown",
   "metadata": {},
   "source": [
    "1) -7 / -3 = 2.333\n",
    "2) floor = 2\n",
    "3) -3 * 2 = -6\n",
    "4) -7 - -6 = -1"
   ]
  },
  {
   "cell_type": "markdown",
   "metadata": {},
   "source": [
    "#### Floor division\n",
    "\n",
    "The floor division of negative numbers could return a number that we are not expecting!"
   ]
  },
  {
   "cell_type": "code",
   "execution_count": 3,
   "metadata": {},
   "outputs": [
    {
     "data": {
      "text/plain": [
       "(1.4285714285714286, 1)"
      ]
     },
     "execution_count": 3,
     "metadata": {},
     "output_type": "execute_result"
    }
   ],
   "source": [
    "10/7, 10//7"
   ]
  },
  {
   "cell_type": "code",
   "execution_count": 4,
   "metadata": {},
   "outputs": [
    {
     "data": {
      "text/plain": [
       "(-1.4285714285714286, -2)"
      ]
     },
     "execution_count": 4,
     "metadata": {},
     "output_type": "execute_result"
    }
   ],
   "source": [
    "-10/7, -10//7"
   ]
  },
  {
   "cell_type": "markdown",
   "metadata": {},
   "source": [
    "#### Truncation with int()"
   ]
  },
  {
   "cell_type": "markdown",
   "metadata": {},
   "source": [
    "> A good alternative is to use int() to truncate instead of floor division!"
   ]
  },
  {
   "cell_type": "code",
   "execution_count": 5,
   "metadata": {},
   "outputs": [
    {
     "data": {
      "text/plain": [
       "-1"
      ]
     },
     "execution_count": 5,
     "metadata": {},
     "output_type": "execute_result"
    }
   ],
   "source": [
    "int(-10/7)"
   ]
  },
  {
   "cell_type": "markdown",
   "metadata": {},
   "source": [
    "> Remember that, in automated test cases, 1.0 is not 1, so use int() to truncate the division even if the division is equaly (the divisor is divisible)!!\n",
    "\n",
    "Test cases sometimes work testing the printed answer (string), not the number in the number type."
   ]
  },
  {
   "cell_type": "code",
   "execution_count": 5,
   "metadata": {},
   "outputs": [
    {
     "data": {
      "text/plain": [
       "False"
      ]
     },
     "execution_count": 5,
     "metadata": {},
     "output_type": "execute_result"
    }
   ],
   "source": [
    "\"1.0\" == \"1\""
   ]
  },
  {
   "cell_type": "markdown",
   "metadata": {},
   "source": [
    "### math.ceil\n",
    "\n",
    "math.ceil is useful when we need to get the quantity of groups, for example.\n",
    "\n",
    "Let's say that we need to form groups of 4 and need to know how many groups it will be necessary."
   ]
  },
  {
   "cell_type": "code",
   "execution_count": 1,
   "metadata": {},
   "outputs": [
    {
     "data": {
      "text/plain": [
       "2.75"
      ]
     },
     "execution_count": 1,
     "metadata": {},
     "output_type": "execute_result"
    }
   ],
   "source": [
    "n = 11 # number of persons\n",
    "g = 4 # qunatity in each group\n",
    "\n",
    "11/4"
   ]
  },
  {
   "cell_type": "code",
   "execution_count": 3,
   "metadata": {},
   "outputs": [
    {
     "data": {
      "text/plain": [
       "3"
      ]
     },
     "execution_count": 3,
     "metadata": {},
     "output_type": "execute_result"
    }
   ],
   "source": [
    "import math\n",
    "\n",
    "math.ceil(n/g)  # 3 groups -> 2 groups of 4, and one with 3"
   ]
  },
  {
   "cell_type": "code",
   "execution_count": null,
   "metadata": {},
   "outputs": [],
   "source": []
  }
 ],
 "metadata": {
  "kernelspec": {
   "display_name": "Python 3",
   "language": "python",
   "name": "python3"
  },
  "language_info": {
   "codemirror_mode": {
    "name": "ipython",
    "version": 3
   },
   "file_extension": ".py",
   "mimetype": "text/x-python",
   "name": "python",
   "nbconvert_exporter": "python",
   "pygments_lexer": "ipython3",
   "version": "3.10.11"
  }
 },
 "nbformat": 4,
 "nbformat_minor": 2
}
