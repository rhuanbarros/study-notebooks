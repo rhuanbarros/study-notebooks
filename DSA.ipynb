{
 "cells": [
  {
   "cell_type": "markdown",
   "metadata": {},
   "source": [
    "# DSA notes\n"
   ]
  },
  {
   "cell_type": "code",
   "execution_count": 11,
   "metadata": {},
   "outputs": [],
   "source": [
    "import math"
   ]
  },
  {
   "cell_type": "markdown",
   "metadata": {},
   "source": [
    "# Mod operations"
   ]
  },
  {
   "cell_type": "markdown",
   "metadata": {},
   "source": [
    "![](mod4_example.png)\n"
   ]
  },
  {
   "cell_type": "markdown",
   "metadata": {},
   "source": [
    "## Questions"
   ]
  },
  {
   "cell_type": "markdown",
   "metadata": {},
   "source": [
    "**Minimum number of coins**\n",
    "\n",
    "Chef has infinite coins in denominations of rupees 5 and rupees 10.\n",
    "\n",
    "Find the minimum number of coins Chef needs, to pay exactly X rupees. If it is impossible to pay X rupees in denominations of rupees 5 and 10 only, print -1.\n",
    "\n",
    "Input Format<br>\n",
    "First line will contain T, number of test cases. Then the test cases follow.\n",
    "Each test case contains of a single integer X.\n",
    "\n",
    "Output Format\n",
    "\n",
    "For each test case, print a single integer - the minimum number of coins Chef needs, to pay exactly X rupees. If it is impossible to pay X rupees in denominations of rupees 5 and 10 only, print -1."
   ]
  },
  {
   "cell_type": "markdown",
   "metadata": {},
   "source": [
    "> This solution works fine for this problem because 10 is multiple of 5, but with other numbers it didn't work."
   ]
  },
  {
   "cell_type": "code",
   "execution_count": 4,
   "metadata": {},
   "outputs": [
    {
     "name": "stdout",
     "output_type": "stream",
     "text": [
      "2\n"
     ]
    }
   ],
   "source": [
    "x = 15\n",
    "a = 10\n",
    "b = 5\n",
    "\n",
    "bigger = max(a, b)\n",
    "minor = min(a, b)\n",
    "\n",
    "if x % bigger != 0 and x % minor != 0:\n",
    "    print(-1)\n",
    "else:\n",
    "    print( x // bigger + x % bigger // minor )"
   ]
  },
  {
   "cell_type": "code",
   "execution_count": 6,
   "metadata": {},
   "outputs": [
    {
     "name": "stdout",
     "output_type": "stream",
     "text": [
      "2\n"
     ]
    }
   ],
   "source": [
    "# dont work in this case: the answer should be 7 of 3\n",
    "\n",
    "x = 21\n",
    "a = 10\n",
    "b = 3\n",
    "\n",
    "bigger = max(a, b)\n",
    "minor = min(a, b)\n",
    "\n",
    "if x % bigger != 0 and x % minor != 0:\n",
    "    print(-1)\n",
    "else:\n",
    "    print( x // bigger + x % bigger // minor )"
   ]
  },
  {
   "cell_type": "markdown",
   "metadata": {},
   "source": [
    "### Questions about digits\n",
    "\n",
    "> You should take care of negative numbers!!\n",
    "\n",
    "1. String trick"
   ]
  },
  {
   "cell_type": "code",
   "execution_count": 16,
   "metadata": {},
   "outputs": [
    {
     "data": {
      "text/plain": [
       "[1, 2, 3, 4, 5]"
      ]
     },
     "execution_count": 16,
     "metadata": {},
     "output_type": "execute_result"
    }
   ],
   "source": [
    "n = -12345\n",
    "\n",
    "# trick to fix negative number\n",
    "n = n if n>0 else n*-1 \n",
    "\n",
    "n_list = [int(e) for e in str(n)]\n",
    "n_list"
   ]
  },
  {
   "cell_type": "markdown",
   "metadata": {},
   "source": [
    "2. / and %"
   ]
  },
  {
   "cell_type": "code",
   "execution_count": 36,
   "metadata": {},
   "outputs": [
    {
     "data": {
      "text/plain": [
       "[1, 2, 3, 4, 5]"
      ]
     },
     "execution_count": 36,
     "metadata": {},
     "output_type": "execute_result"
    }
   ],
   "source": [
    "n = -12345\n",
    "\n",
    "# trick to fix negative number\n",
    "n = n if n>0 else n*-1 \n",
    "\n",
    "a = []\n",
    "while n != 0:\n",
    "    a.insert(0, n%10)\n",
    "    n = int(n/10) # we could use // because we fixed the negative number before. But, if we didn't fix the negative number, the floor division could return a differente number of the expected.\n",
    "a"
   ]
  },
  {
   "cell_type": "markdown",
   "metadata": {},
   "source": [
    "> This solutions with **while** didn't work with **negative** numbers because the mod of negatives numbers work different than positives."
   ]
  },
  {
   "cell_type": "code",
   "execution_count": 35,
   "metadata": {},
   "outputs": [
    {
     "data": {
      "text/plain": [
       "9"
      ]
     },
     "execution_count": 35,
     "metadata": {},
     "output_type": "execute_result"
    }
   ],
   "source": [
    "-1%10"
   ]
  },
  {
   "cell_type": "code",
   "execution_count": 45,
   "metadata": {},
   "outputs": [
    {
     "data": {
      "text/plain": [
       "2"
      ]
     },
     "execution_count": 45,
     "metadata": {},
     "output_type": "execute_result"
    }
   ],
   "source": [
    "-1234%4"
   ]
  },
  {
   "cell_type": "code",
   "execution_count": 44,
   "metadata": {},
   "outputs": [
    {
     "data": {
      "text/plain": [
       "-123"
      ]
     },
     "execution_count": 44,
     "metadata": {},
     "output_type": "execute_result"
    }
   ],
   "source": [
    "int(-1234/10)"
   ]
  },
  {
   "cell_type": "code",
   "execution_count": 43,
   "metadata": {},
   "outputs": [
    {
     "data": {
      "text/plain": [
       "6"
      ]
     },
     "execution_count": 43,
     "metadata": {},
     "output_type": "execute_result"
    }
   ],
   "source": [
    "-1234%10"
   ]
  },
  {
   "cell_type": "markdown",
   "metadata": {},
   "source": [
    "3. divmod"
   ]
  },
  {
   "cell_type": "code",
   "execution_count": 9,
   "metadata": {},
   "outputs": [
    {
     "data": {
      "text/plain": [
       "[1, 2, 3, 4, 5]"
      ]
     },
     "execution_count": 9,
     "metadata": {},
     "output_type": "execute_result"
    }
   ],
   "source": [
    "n = 12345\n",
    "a = []\n",
    "while n>0:\n",
    "    q, r = divmod(n, 10)\n",
    "    n = q\n",
    "    a.insert(0, r)\n",
    "a"
   ]
  },
  {
   "cell_type": "markdown",
   "metadata": {},
   "source": [
    "### Reverse a number"
   ]
  },
  {
   "cell_type": "code",
   "execution_count": 2,
   "metadata": {},
   "outputs": [
    {
     "data": {
      "text/plain": [
       "54321"
      ]
     },
     "execution_count": 2,
     "metadata": {},
     "output_type": "execute_result"
    }
   ],
   "source": [
    "n = \"12345\"  #string\n",
    "\n",
    "l = list(n)\n",
    "l = l[::-1]\n",
    "\n",
    "int(\"\".join(l))"
   ]
  },
  {
   "cell_type": "code",
   "execution_count": 3,
   "metadata": {},
   "outputs": [
    {
     "name": "stdout",
     "output_type": "stream",
     "text": [
      "54321\n"
     ]
    }
   ],
   "source": [
    "n = 12345 #int\n",
    "\n",
    "# handle negative number\n",
    "if n < 0:\n",
    "    negative = True\n",
    "    n = n*-1\n",
    "else:\n",
    "    negative = False\n",
    "    \n",
    "l = []\n",
    "while n > 0:\n",
    "    n, r = divmod(n, 10)\n",
    "    l.append(str(r))\n",
    "\n",
    "result = int(\"\".join(l))\n",
    "if negative:\n",
    "    print(result*-1)\n",
    "else:\n",
    "    print(result)"
   ]
  },
  {
   "cell_type": "markdown",
   "metadata": {},
   "source": [
    "### Time convertions"
   ]
  },
  {
   "cell_type": "code",
   "execution_count": 2,
   "metadata": {},
   "outputs": [
    {
     "name": "stdout",
     "output_type": "stream",
     "text": [
      "2 days, 3 hours, 46 minutes and 39 seconds\n"
     ]
    }
   ],
   "source": [
    "total_seconds = 186_399\n",
    "seconds = total_seconds % 60\n",
    "\n",
    "minutes = total_seconds // 60 % 60\n",
    "hours = total_seconds // 60 // 60 % 24\n",
    "days = total_seconds // 60 // 60 // 24\n",
    "\n",
    "print(f\"{days} days, {hours} hours, {minutes:02d} minutes and {seconds:02d} seconds\")"
   ]
  },
  {
   "cell_type": "markdown",
   "metadata": {},
   "source": [
    "### Mod of negative numbers\n",
    "\n",
    "$a \\mod b = a - b \\times \\left\\lfloor \\frac{a}{b} \\right\\rfloor$\n",
    "\n",
    "**Floor division**: remeber that the floor division for negatives numbers it is not ethe same as trucate the number, because the floor is even more **negative**!"
   ]
  },
  {
   "cell_type": "code",
   "execution_count": 8,
   "metadata": {},
   "outputs": [
    {
     "data": {
      "text/plain": [
       "1"
      ]
     },
     "execution_count": 8,
     "metadata": {},
     "output_type": "execute_result"
    }
   ],
   "source": [
    "7%3"
   ]
  },
  {
   "cell_type": "markdown",
   "metadata": {},
   "source": [
    "1) 7/3 = 2.333\n",
    "2) floor division(7/3) = 2\n",
    "3) 3 * 2 = 6\n",
    "4) 7 - 6 = 1"
   ]
  },
  {
   "cell_type": "code",
   "execution_count": 10,
   "metadata": {},
   "outputs": [
    {
     "data": {
      "text/plain": [
       "2"
      ]
     },
     "execution_count": 10,
     "metadata": {},
     "output_type": "execute_result"
    }
   ],
   "source": [
    "-7%3"
   ]
  },
  {
   "cell_type": "markdown",
   "metadata": {},
   "source": [
    "1) -7 / 3 = -2.333\n",
    "2) floor = -3\n",
    "3) 3 * -3 = -9\n",
    "4) -7 - -9 = 2"
   ]
  },
  {
   "cell_type": "code",
   "execution_count": 11,
   "metadata": {},
   "outputs": [
    {
     "data": {
      "text/plain": [
       "-2"
      ]
     },
     "execution_count": 11,
     "metadata": {},
     "output_type": "execute_result"
    }
   ],
   "source": [
    "7%-3"
   ]
  },
  {
   "cell_type": "markdown",
   "metadata": {},
   "source": [
    "1) 7 / -3 = -2.333\n",
    "2) floor = -3\n",
    "3) -3 * -3 = 9\n",
    "4) 7 - 9 = -2"
   ]
  },
  {
   "cell_type": "code",
   "execution_count": 7,
   "metadata": {},
   "outputs": [
    {
     "data": {
      "text/plain": [
       "-1"
      ]
     },
     "execution_count": 7,
     "metadata": {},
     "output_type": "execute_result"
    }
   ],
   "source": [
    "-7%-3"
   ]
  },
  {
   "cell_type": "markdown",
   "metadata": {},
   "source": [
    "1) -7 / -3 = 2.333\n",
    "2) floor = 2\n",
    "3) -3 * 2 = -6\n",
    "4) -7 - -6 = -1"
   ]
  },
  {
   "cell_type": "markdown",
   "metadata": {},
   "source": [
    "# Math.ceil and floor division"
   ]
  },
  {
   "cell_type": "markdown",
   "metadata": {},
   "source": [
    "### Floor division\n",
    "\n",
    "The floor division of negative numbers could return a number that we are not expecting!"
   ]
  },
  {
   "cell_type": "code",
   "execution_count": 3,
   "metadata": {},
   "outputs": [
    {
     "data": {
      "text/plain": [
       "(1.4285714285714286, 1)"
      ]
     },
     "execution_count": 3,
     "metadata": {},
     "output_type": "execute_result"
    }
   ],
   "source": [
    "10/7, 10//7"
   ]
  },
  {
   "cell_type": "code",
   "execution_count": 4,
   "metadata": {},
   "outputs": [
    {
     "data": {
      "text/plain": [
       "(-1.4285714285714286, -2)"
      ]
     },
     "execution_count": 4,
     "metadata": {},
     "output_type": "execute_result"
    }
   ],
   "source": [
    "-10/7, -10//7"
   ]
  },
  {
   "cell_type": "markdown",
   "metadata": {},
   "source": [
    "### Truncation with int()"
   ]
  },
  {
   "cell_type": "markdown",
   "metadata": {},
   "source": [
    "> A good alternative is to use int() to truncate instead of floor division!"
   ]
  },
  {
   "cell_type": "code",
   "execution_count": 5,
   "metadata": {},
   "outputs": [
    {
     "data": {
      "text/plain": [
       "-1"
      ]
     },
     "execution_count": 5,
     "metadata": {},
     "output_type": "execute_result"
    }
   ],
   "source": [
    "int(-10/7)"
   ]
  },
  {
   "cell_type": "markdown",
   "metadata": {},
   "source": [
    "> Remember that, in automated test cases, 1.0 is not 1, so use int() to truncate the division even if the division is equaly (the divisor is divisible)!!\n",
    "\n",
    "Test cases sometimes work testing the printed answer (string), not the number in the number type."
   ]
  },
  {
   "cell_type": "code",
   "execution_count": 5,
   "metadata": {},
   "outputs": [
    {
     "data": {
      "text/plain": [
       "False"
      ]
     },
     "execution_count": 5,
     "metadata": {},
     "output_type": "execute_result"
    }
   ],
   "source": [
    "\"1.0\" == \"1\""
   ]
  },
  {
   "cell_type": "markdown",
   "metadata": {},
   "source": [
    "### Questions about quantity of groups\n",
    "\n",
    "This questions want to know how many groups of N it should have, but some times there is a remainder.  \n",
    "There is 2 types of questions in relation of how to handle this.\n",
    "- the remainder is put alone in one group (leving space in it) or\n",
    "> We use math.ceil(x/n) to round up to\n",
    "- the just want to know the quantity of remainder to do something else.\n",
    "> We use mod to get the remainder x%n"
   ]
  },
  {
   "cell_type": "markdown",
   "metadata": {},
   "source": [
    "math.ceil is useful when we need to get the quantity of groups, for example.\n",
    "\n",
    "Let's say that we need to form groups of 4 and need to know how many groups it will be necessary."
   ]
  },
  {
   "cell_type": "code",
   "execution_count": 3,
   "metadata": {},
   "outputs": [
    {
     "data": {
      "text/plain": [
       "3"
      ]
     },
     "execution_count": 3,
     "metadata": {},
     "output_type": "execute_result"
    }
   ],
   "source": [
    "import math\n",
    "\n",
    "math.ceil(n/g)  # 3 groups -> 2 groups of 4, and one with 3"
   ]
  },
  {
   "cell_type": "code",
   "execution_count": 3,
   "metadata": {},
   "outputs": [
    {
     "data": {
      "text/plain": [
       "2.75"
      ]
     },
     "execution_count": 3,
     "metadata": {},
     "output_type": "execute_result"
    }
   ],
   "source": [
    "n = 11 # number of persons\n",
    "g = 4 # qunatity in each group\n",
    "\n",
    "n/g"
   ]
  },
  {
   "cell_type": "markdown",
   "metadata": {},
   "source": [
    "# How to work with money in Python\n",
    "\n",
    "> use Decimal!"
   ]
  },
  {
   "cell_type": "code",
   "execution_count": 50,
   "metadata": {},
   "outputs": [
    {
     "name": "stdout",
     "output_type": "stream",
     "text": [
      "10000003.15\n"
     ]
    }
   ],
   "source": [
    "from decimal import Decimal, getcontext\n",
    "\n",
    "# Set the precision to 30 digits\n",
    "getcontext().prec = 30\n",
    "\n",
    "# Create Decimal numbers\n",
    "\n",
    "num1 = Decimal('10000000.17')\n",
    "num2 = Decimal('2.98')\n",
    "# Perform operations\n",
    "result = num1 + num2\n",
    "print(f\"{result:.2f}\")"
   ]
  },
  {
   "cell_type": "markdown",
   "metadata": {},
   "source": [
    "# Velocity"
   ]
  },
  {
   "cell_type": "markdown",
   "metadata": {},
   "source": [
    "**Police and Thief**\n",
    "\n",
    "[Link](https://www.codechef.com/practice/course/logical-problems/DIFF800/problems/POLTHIEF?tab=statement)\n",
    "\n",
    "Chef discovered that his secret recipe has been stolen. He immediately informs the police of the theft.\n",
    "\n",
    "It is known that the policeman and thief move on the number line. You are given that:\n",
    "\n",
    "-   The initial location of the policeman on the number line is X and his speed is 2 units per second.\n",
    "-   The initial location of the thief on the number line is Y and his speed is 1 unit per second.\n",
    "\n",
    "Find the **minimum** time (in seconds) in which the policeman can catch the thief. Note that, the policeman catches the thief as soon as their locations become equal and the thief will try to evade the policeman for as long as possible.\n",
    "\n",
    "**Input Format**\n",
    "\n",
    "-   The first line of input will contain an integer T --- the number of test cases. The description of T test cases follows.\n",
    "-   The first and only line of each test case contains two integers X and Y, as described in the problem statement.\n",
    "\n",
    "**Output Format**\n",
    "\n",
    "For each test case, output in a single line the minimum time taken by the policeman to catch the thief.\n",
    "\n",
    "**Constraints**\n",
    "\n",
    "-   1≤T≤10001≤T≤1000\n",
    "-   -105≤X,Y≤105-105≤X,Y≤105\n",
    "\n",
    "**Sample 1:**\n",
    "\n",
    "Input\n",
    "```\n",
    "3\n",
    "1 3\n",
    "2 1\n",
    "1 1\n",
    "```\n",
    "\n",
    "Output\n",
    "```\n",
    "2\n",
    "1\n",
    "0\n",
    "```\n",
    "\n",
    "**Explanation:**\n",
    "\n",
    "**Test case 11**: The initial locations of the policeman and thief are 11 and 33 respectively. The minimum time taken by the policeman to catch the thief is 22 seconds, and this happens when both the policeman and the thief move towards the right.\n",
    "\n",
    "**Test case 22**: The initial location of the policeman and thief are 22 and 11 respectively. The minimum time taken by the policeman to catch the thief is 11 second, and this happens when both the policeman and the thief move towards the left.\n",
    "\n",
    "**Test case 33**: The initial locations of the policeman and thief are 11 and 11 respectively. Because the police is already present at the location of thief, the time taken by police to catch the thief is 00 seconds."
   ]
  },
  {
   "cell_type": "code",
   "execution_count": 4,
   "metadata": {},
   "outputs": [
    {
     "name": "stdout",
     "output_type": "stream",
     "text": [
      "1\n"
     ]
    }
   ],
   "source": [
    "x = 1\n",
    "x_vel =2\n",
    "\n",
    "y = 2\n",
    "y_vel = 1\n",
    "\n",
    "relative_vel = abs(x_vel - y_vel)\n",
    "\n",
    "if x > y:\n",
    "    t = (x-y)/relative_vel\n",
    "    \n",
    "elif x == y:\n",
    "    t = 0\n",
    "else:\n",
    "    t = (y-x)/relative_vel\n",
    "\n",
    "print(int(t))"
   ]
  },
  {
   "cell_type": "markdown",
   "metadata": {},
   "source": [
    "When solving this problem, the concept of calculating the time using relative speed is grounded in basic physics, specifically from **kinematics** (the study of motion). Here's a breakdown:\n",
    "\n",
    "1. **Relative Speed**:\n",
    "- In physics, when two objects move towards or away from each other, you calculate their relative speed by subtracting their velocities if they’re moving in the same direction.\n",
    "  \n",
    "- In this case, the **policeman** moves faster than the **thief**, so their relative speed is the difference between their speeds:\n",
    "\n",
    "$$\n",
    "v_{\\text{relative}} = v_{\\text{policeman}} - v_{\\text{thief}}\n",
    "$$\n",
    "\n",
    "This is a common concept in problems involving two objects in motion on the same path.\n",
    "\n",
    "2. **Instantaneous Speed Formula**:\n",
    "- The general formula to find **time** in uniform motion is:\n",
    "\n",
    "$$\n",
    "\\text{Time} = \\frac{\\text{Distance}}{\\text{Speed}}\n",
    "$$\n",
    "\n",
    "This comes from the basic relationship between distance, speed, and time:\n",
    "\n",
    "$$\n",
    "\\text{Distance} = \\text{Speed} \\times \\text{Time}\n",
    "$$\n",
    "\n",
    "If you rearrange this equation, you can solve for time:\n",
    "\n",
    "$$\n",
    "\\text{Time} = \\frac{\\text{Distance}}{\\text{Speed}}\n",
    "$$\n",
    "\n",
    "3. **Applying It**:\n",
    "In this case, the \"distance\" is the gap between the policeman and the thief (i.e., \\( |X - Y| \\)), and the speed is the **relative speed** between them. This is why the time is calculated as:\n",
    "\n",
    "$$\n",
    "T = \\frac{|X - Y|}{v_{\\text{relative}}}\n",
    "$$\n"
   ]
  },
  {
   "cell_type": "markdown",
   "metadata": {},
   "source": [
    "# Other questions"
   ]
  },
  {
   "cell_type": "markdown",
   "metadata": {},
   "source": [
    "## Change machine"
   ]
  },
  {
   "cell_type": "code",
   "execution_count": 8,
   "metadata": {},
   "outputs": [],
   "source": [
    "def coin_change(coins, amount):\n",
    "    dp = [float('inf')] * (amount + 1)\n",
    "    dp[0] = 0  # 0 coins to make amount 0\n",
    "    \n",
    "    for coin in coins:\n",
    "        for i in range(coin, amount + 1):\n",
    "            dp[i] = min(dp[i], dp[i - coin] + 1)\n",
    "    \n",
    "    return dp[amount] if dp[amount] != float('inf') else -1\n"
   ]
  },
  {
   "cell_type": "code",
   "execution_count": 9,
   "metadata": {},
   "outputs": [
    {
     "name": "stdout",
     "output_type": "stream",
     "text": [
      "Test case 1 passed. Result: 3\n",
      "Test case 2 passed. Result: -1\n",
      "Test case 3 passed. Result: 0\n"
     ]
    }
   ],
   "source": [
    "# Test case 1: Example with multiple denominations\n",
    "coins = [1, 2, 5]\n",
    "amount = 11\n",
    "expected_result = 3  # We can use 5 + 5 + 1 = 11, so 3 coins in total\n",
    "result = coin_change(coins, amount)\n",
    "assert result == expected_result, f\"Test failed! Expected {expected_result}, got {result}\"\n",
    "print(f\"Test case 1 passed. Result: {result}\")\n",
    "\n",
    "# Test case 2: Impossible to make the amount\n",
    "coins = [2]\n",
    "amount = 3\n",
    "expected_result = -1  # Not possible to make 3 using only 2\n",
    "result = coin_change(coins, amount)\n",
    "assert result == expected_result, f\"Test failed! Expected {expected_result}, got {result}\"\n",
    "print(f\"Test case 2 passed. Result: {result}\")\n",
    "\n",
    "# Test case 3: Amount is 0, should return 0\n",
    "coins = [1, 2, 5]\n",
    "amount = 0\n",
    "expected_result = 0  # 0 coins needed to make 0\n",
    "result = coin_change(coins, amount)\n",
    "assert result == expected_result, f\"Test failed! Expected {expected_result}, got {result}\"\n",
    "print(f\"Test case 3 passed. Result: {result}\")\n"
   ]
  },
  {
   "cell_type": "markdown",
   "metadata": {},
   "source": [
    "# Finding the correct formula\n",
    "\n",
    "Discrete math knowledge about proving odd, even, divisibility, etc\n",
    "\n",
    "questions  \n",
    "https://www.codechef.com/practice/course/logical-problems/DIFF1000/problems/EQLZING -> proven that the number was even"
   ]
  },
  {
   "cell_type": "code",
   "execution_count": null,
   "metadata": {},
   "outputs": [],
   "source": []
  },
  {
   "cell_type": "markdown",
   "metadata": {},
   "source": [
    "# lists\n",
    "\n",
    "questions  \n",
    "https://www.codechef.com/practice/course/logical-problems/DIFF1000/problems/PALL01 -> test if first element of list is equal to the last\n"
   ]
  },
  {
   "cell_type": "markdown",
   "metadata": {},
   "source": []
  }
 ],
 "metadata": {
  "kernelspec": {
   "display_name": "Python 3",
   "language": "python",
   "name": "python3"
  },
  "language_info": {
   "codemirror_mode": {
    "name": "ipython",
    "version": 3
   },
   "file_extension": ".py",
   "mimetype": "text/x-python",
   "name": "python",
   "nbconvert_exporter": "python",
   "pygments_lexer": "ipython3",
   "version": "3.10.11"
  }
 },
 "nbformat": 4,
 "nbformat_minor": 2
}
