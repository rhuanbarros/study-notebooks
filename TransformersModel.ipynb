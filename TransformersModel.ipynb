{
 "cells": [
  {
   "cell_type": "code",
   "execution_count": null,
   "metadata": {},
   "outputs": [],
   "source": []
  },
  {
   "cell_type": "markdown",
   "metadata": {},
   "source": [
    "## Self attention basic implementation"
   ]
  },
  {
   "cell_type": "code",
   "execution_count": null,
   "metadata": {},
   "outputs": [],
   "source": [
    "import torch\n",
    "import torch.nn as nn\n",
    "from torch.nn import functional as F"
   ]
  },
  {
   "cell_type": "code",
   "execution_count": null,
   "metadata": {},
   "outputs": [],
   "source": [
    "# version 4: self-attention!\n",
    "torch.manual_seed(1337)\n",
    "B,T,C = 4,8,32 # batch, time, channels\n",
    "x = torch.randn(B,T,C)\n",
    "\n",
    "# let's see a single Head perform self-attention\n",
    "head_size = 16\n",
    "key = nn.Linear(C, head_size, bias=False)\n",
    "query = nn.Linear(C, head_size, bias=False)\n",
    "value = nn.Linear(C, head_size, bias=False)\n",
    "k = key(x)   # (B, T, 16)\n",
    "q = query(x) # (B, T, 16)\n",
    "wei =  q @ k.transpose(-2, -1) # (B, T, 16) @ (B, 16, T) ---> (B, T, T)\n",
    "\n",
    "tril = torch.tril(torch.ones(T, T))\n",
    "#wei = torch.zeros((T,T))\n",
    "wei = wei.masked_fill(tril == 0, float('-inf'))\n",
    "wei = F.softmax(wei, dim=-1)\n",
    "v = value(x)"
   ]
  },
  {
   "cell_type": "markdown",
   "metadata": {},
   "source": [
    "### Matrix A (Lower Triangular, Shape: 3x3)\n",
    "Matrix A is a lower triangular matrix, and each row sums to 1:\n",
    "\n",
    "$$\n",
    "A = \\begin{bmatrix}\n",
    "1 & 0 & 0 \\\\\n",
    "\\frac{1}{2} & \\frac{1}{2} & 0 \\\\\n",
    "\\frac{1}{3} & \\frac{1}{3} & \\frac{1}{3} \\\\\n",
    "\\end{bmatrix}\n",
    "$$\n",
    "\n",
    "### Matrix B (Shape: 3x2)\n",
    "$$\n",
    "B = \\begin{bmatrix}\n",
    "b_{11} & b_{12} \\\\\n",
    "b_{21} & b_{22} \\\\\n",
    "b_{31} & b_{32} \\\\\n",
    "\\end{bmatrix}\n",
    "$$\n",
    "\n",
    "### Matrix Multiplication (Resulting Shape: 3x2)\n",
    "The resulting matrix C is calculated as follows:\n",
    "\n",
    "$$\n",
    "C = A \\times B = \\begin{bmatrix}\n",
    "c_{11} & c_{12} \\\\\n",
    "c_{21} & c_{22} \\\\\n",
    "c_{31} & c_{32} \\\\\n",
    "\\end{bmatrix}\n",
    "$$\n",
    "\n",
    "Where:\n",
    "\n",
    "$$\n",
    "c_{11} = 1 \\cdot b_{11} + 0 \\cdot b_{21} + 0 \\cdot b_{31} = b_{11}\n",
    "$$\n",
    "\n",
    "$$\n",
    "c_{12} = 1 \\cdot b_{12} + 0 \\cdot b_{22} + 0 \\cdot b_{32} = b_{12}\n",
    "$$\n",
    "\n",
    "$$\n",
    "c_{21} = \\frac{1}{2} \\cdot b_{11} + \\frac{1}{2} \\cdot b_{21} + 0 \\cdot b_{31} = \\frac{1}{2}(b_{11} + b_{21})\n",
    "$$\n",
    "\n",
    "$$\n",
    "c_{22} = \\frac{1}{2} \\cdot b_{12} + \\frac{1}{2} \\cdot b_{22} + 0 \\cdot b_{32} = \\frac{1}{2}(b_{12} + b_{22})\n",
    "$$\n",
    "\n",
    "$$\n",
    "c_{31} = \\frac{1}{3} \\cdot b_{11} + \\frac{1}{3} \\cdot b_{21} + \\frac{1}{3} \\cdot b_{31} = \\frac{1}{3}(b_{11} + b_{21} + b_{31})\n",
    "$$\n",
    "\n",
    "$$\n",
    "c_{32} = \\frac{1}{3} \\cdot b_{12} + \\frac{1}{3} \\cdot b_{22} + \\frac{1}{3} \\cdot b_{32} = \\frac{1}{3}(b_{12} + b_{22} + b_{32})\n",
    "$$\n"
   ]
  },
  {
   "cell_type": "markdown",
   "metadata": {},
   "source": [
    "Each row of A say how much it should get of each token in the matrix B.  \n",
    "The first row say to get 100% of first token and 0 of the others.  \n",
    "This is done by multiplying each channel (of the embedding) for each row of A and summing up.  \n",
    "So it works channel by channel (dimension by dimension) getting the quantity necessary (from each token) and summing up in that dimension.  "
   ]
  },
  {
   "cell_type": "code",
   "execution_count": null,
   "metadata": {},
   "outputs": [],
   "source": []
  }
 ],
 "metadata": {
  "kernelspec": {
   "display_name": "Python 3",
   "language": "python",
   "name": "python3"
  },
  "language_info": {
   "codemirror_mode": {
    "name": "ipython",
    "version": 3
   },
   "file_extension": ".py",
   "mimetype": "text/x-python",
   "name": "python",
   "nbconvert_exporter": "python",
   "pygments_lexer": "ipython3",
   "version": "3.10.11"
  }
 },
 "nbformat": 4,
 "nbformat_minor": 2
}
